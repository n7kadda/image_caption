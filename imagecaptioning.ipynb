{
 "cells": [
  {
   "cell_type": "code",
   "execution_count": 5,
   "id": "ccca0de9-15f5-4b1f-b36e-a8f0d8e8a34d",
   "metadata": {},
   "outputs": [],
   "source": [
    "import os\n",
    "import re\n",
    "import numpy as np\n",
    "import matplotlib.pyplot as plt\n",
    "import tensorflow as tf \n",
    "from tensorflow import keras\n",
    "from tensorflow.keras import layers\n",
    "from tensorflow.keras.applications import efficientnet\n",
    "from tensorflow.keras. layers import TextVectorization\n",
    "seed = 111\n",
    "np. random. seed (seed)\n",
    "tf.random.set_seed(seed)"
   ]
  },
  {
   "cell_type": "code",
   "execution_count": 9,
   "id": "c99d7ded-23f6-4421-9b9c-867070a5a62e",
   "metadata": {},
   "outputs": [
    {
     "name": "stdout",
     "output_type": "stream",
     "text": [
      "Downloading Flickr8k_Dataset.zip...\n",
      "Downloaded Flickr8k_Dataset.zip\n",
      "Downloading Flickr8k_text.zip...\n",
      "Downloaded Flickr8k_text.zip\n",
      "Unzipping Flickr8k_Dataset.zip...\n",
      "Unzipped Flickr8k_Dataset.zip\n",
      "Unzipping Flickr8k_text.zip...\n",
      "Unzipped Flickr8k_text.zip\n",
      "Removed zip files.\n"
     ]
    }
   ],
   "source": [
    "import requests\n",
    "import zipfile\n",
    "import os\n",
    "\n",
    "dataset_url = \"https://github.com/jbrownlee/Datasets/releases/download/Flickr8k/Flickr8k_Dataset.zip\"\n",
    "text_url = \"https://github.com/jbrownlee/Datasets/releases/download/Flickr8k/Flickr8k_text.zip\"\n",
    "\n",
    "def download_file(url, filename):\n",
    "    print(f\"Downloading {filename}...\")\n",
    "    response = requests.get(url)\n",
    "    with open(filename, 'wb') as file:\n",
    "        file.write(response.content)\n",
    "    print(f\"Downloaded {filename}\")\n",
    "\n",
    "download_file(dataset_url, \"Flickr8k_Dataset.zip\")\n",
    "download_file(text_url, \"Flickr8k_text.zip\")\n",
    "\n",
    "def unzip_file(filename, extract_to=\".\"):\n",
    "    print(f\"Unzipping {filename}...\")\n",
    "    with zipfile.ZipFile(filename, 'r') as zip_ref:\n",
    "        zip_ref.extractall(extract_to)\n",
    "    print(f\"Unzipped {filename}\")\n",
    "\n",
    "unzip_file(\"Flickr8k_Dataset.zip\")\n",
    "unzip_file(\"Flickr8k_text.zip\")\n",
    "\n",
    "os.remove(\"Flickr8k_Dataset.zip\")\n",
    "os.remove(\"Flickr8k_text.zip\")\n",
    "print(\"Removed zip files.\")"
   ]
  },
  {
   "cell_type": "code",
   "execution_count": null,
   "id": "79418fb8-cab3-4650-9e14-c029b7769802",
   "metadata": {},
   "outputs": [],
   "source": []
  }
 ],
 "metadata": {
  "kernelspec": {
   "display_name": "Python 3 (ipykernel)",
   "language": "python",
   "name": "python3"
  },
  "language_info": {
   "codemirror_mode": {
    "name": "ipython",
    "version": 3
   },
   "file_extension": ".py",
   "mimetype": "text/x-python",
   "name": "python",
   "nbconvert_exporter": "python",
   "pygments_lexer": "ipython3",
   "version": "3.11.7"
  }
 },
 "nbformat": 4,
 "nbformat_minor": 5
}
